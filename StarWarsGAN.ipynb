{
  "nbformat": 4,
  "nbformat_minor": 0,
  "metadata": {
    "colab": {
      "name": "StarWarsGAN.ipynb",
      "provenance": [],
      "collapsed_sections": []
    },
    "kernelspec": {
      "name": "python3",
      "display_name": "Python 3"
    },
    "accelerator": "GPU"
  },
  "cells": [
    {
      "cell_type": "code",
      "metadata": {
        "colab": {
          "base_uri": "https://localhost:8080/"
        },
        "id": "CpquwmoSmaFg",
        "outputId": "189bee73-40a8-4e40-e210-23830ac18420"
      },
      "source": [
        "!git clone https://github.com/ferdinandl007/Northern-Data-Star-Wars-GAN.git\n",
        "%cd /content/Northern-Data-Star-Wars-GAN/DatasetGenerator\n",
        "!pip install --upgrade pip\n",
        "!pip install -r requirements.txt"
      ],
      "execution_count": 3,
      "outputs": [
        {
          "output_type": "stream",
          "text": [
            "Cloning into 'Northern-Data-Star-Wars-GAN'...\n",
            "remote: Enumerating objects: 11, done.\u001b[K\n",
            "remote: Counting objects: 100% (11/11), done.\u001b[K\n",
            "remote: Compressing objects: 100% (8/8), done.\u001b[K\n",
            "remote: Total 115 (delta 3), reused 7 (delta 3), pack-reused 104\u001b[K\n",
            "Receiving objects: 100% (115/115), 103.98 MiB | 52.50 MiB/s, done.\n",
            "Resolving deltas: 100% (16/16), done.\n",
            "/content/Northern-Data-Star-Wars-GAN/DatasetGenerator\n",
            "Requirement already satisfied: numpy in /usr/local/lib/python3.6/dist-packages (from -r requirements.txt (line 1)) (1.19.5)\n",
            "Requirement already satisfied: pytube in /usr/local/lib/python3.6/dist-packages (from -r requirements.txt (line 2)) (10.4.1)\n",
            "Requirement already satisfied: shortuuid in /usr/local/lib/python3.6/dist-packages (from -r requirements.txt (line 3)) (1.0.1)\n",
            "Requirement already satisfied: opencv-python in /usr/local/lib/python3.6/dist-packages (from -r requirements.txt (line 4)) (4.1.2.30)\n",
            "Requirement already satisfied: pytest in /usr/local/lib/python3.6/dist-packages (from -r requirements.txt (line 5)) (3.6.4)\n",
            "Requirement already satisfied: matplotlib in /usr/local/lib/python3.6/dist-packages (from -r requirements.txt (line 6)) (3.2.2)\n",
            "Requirement already satisfied: typing-extensions in /usr/local/lib/python3.6/dist-packages (from pytube->-r requirements.txt (line 2)) (3.7.4.3)\n",
            "Requirement already satisfied: atomicwrites>=1.0 in /usr/local/lib/python3.6/dist-packages (from pytest->-r requirements.txt (line 5)) (1.4.0)\n",
            "Requirement already satisfied: six>=1.10.0 in /usr/local/lib/python3.6/dist-packages (from pytest->-r requirements.txt (line 5)) (1.15.0)\n",
            "Requirement already satisfied: pluggy<0.8,>=0.5 in /usr/local/lib/python3.6/dist-packages (from pytest->-r requirements.txt (line 5)) (0.7.1)\n",
            "Requirement already satisfied: py>=1.5.0 in /usr/local/lib/python3.6/dist-packages (from pytest->-r requirements.txt (line 5)) (1.10.0)\n",
            "Requirement already satisfied: more-itertools>=4.0.0 in /usr/local/lib/python3.6/dist-packages (from pytest->-r requirements.txt (line 5)) (8.7.0)\n",
            "Requirement already satisfied: setuptools in /usr/local/lib/python3.6/dist-packages (from pytest->-r requirements.txt (line 5)) (53.0.0)\n",
            "Requirement already satisfied: attrs>=17.4.0 in /usr/local/lib/python3.6/dist-packages (from pytest->-r requirements.txt (line 5)) (20.3.0)\n",
            "Requirement already satisfied: cycler>=0.10 in /usr/local/lib/python3.6/dist-packages (from matplotlib->-r requirements.txt (line 6)) (0.10.0)\n",
            "Requirement already satisfied: python-dateutil>=2.1 in /usr/local/lib/python3.6/dist-packages (from matplotlib->-r requirements.txt (line 6)) (2.8.1)\n",
            "Requirement already satisfied: pyparsing!=2.0.4,!=2.1.2,!=2.1.6,>=2.0.1 in /usr/local/lib/python3.6/dist-packages (from matplotlib->-r requirements.txt (line 6)) (2.4.7)\n",
            "Requirement already satisfied: kiwisolver>=1.0.1 in /usr/local/lib/python3.6/dist-packages (from matplotlib->-r requirements.txt (line 6)) (1.3.1)\n"
          ],
          "name": "stdout"
        }
      ]
    },
    {
      "cell_type": "markdown",
      "metadata": {
        "id": "wOGvKlFG6OmU"
      },
      "source": [
        "Run this if you want to generate the dataset from scratch when generating the dataset like this it will automatically download the videos and extract faces additionally you can define your own videos to be used to generate the training said when adding the video you're well parameter like this ''''GenerateDataset(every_x_frame=13, video_urls= [])''''"
      ]
    },
    {
      "cell_type": "code",
      "metadata": {
        "id": "u--c2pUN24gN"
      },
      "source": [
        "from GenerateDataset import GenerateDataset\n",
        "dataset_generator = GenerateDataset(every_x_frame=13, set_fix_image_size=384)\n",
        "dataset_generator.run()\n"
      ],
      "execution_count": null,
      "outputs": []
    },
    {
      "cell_type": "markdown",
      "metadata": {
        "id": "DTQ_EgYA6huq"
      },
      "source": [
        "Alternatively download it here!"
      ]
    },
    {
      "cell_type": "code",
      "metadata": {
        "colab": {
          "base_uri": "https://localhost:8080/"
        },
        "id": "AW9rZVs86VgH",
        "outputId": "59dee975-9871-4392-f193-6a0eefb5a3fa"
      },
      "source": [
        "%cd /content/Northern-Data-Star-Wars-GAN/DatasetGenerator/\n",
        "!wget https://www.dropbox.com/s/xaeeuut48ujkoi2/faces.zip\n",
        "from zipfile import ZipFile\n",
        "zf = ZipFile('faces.zip', 'r')\n",
        "zf.extractall()\n",
        "zf.close()\n"
      ],
      "execution_count": 4,
      "outputs": [
        {
          "output_type": "stream",
          "text": [
            "/content/Northern-Data-Star-Wars-GAN/DatasetGenerator\n",
            "--2021-02-16 11:15:41--  https://www.dropbox.com/s/xaeeuut48ujkoi2/faces.zip\n",
            "Resolving www.dropbox.com (www.dropbox.com)... 162.125.80.18, 2620:100:6019:18::a27d:412\n",
            "Connecting to www.dropbox.com (www.dropbox.com)|162.125.80.18|:443... connected.\n",
            "HTTP request sent, awaiting response... 301 Moved Permanently\n",
            "Location: /s/raw/xaeeuut48ujkoi2/faces.zip [following]\n",
            "--2021-02-16 11:15:42--  https://www.dropbox.com/s/raw/xaeeuut48ujkoi2/faces.zip\n",
            "Reusing existing connection to www.dropbox.com:443.\n",
            "HTTP request sent, awaiting response... 302 Found\n",
            "Location: https://uc786ebbe5ff094c784ec6a1b7c9.dl.dropboxusercontent.com/cd/0/inline/BJB_zSUYpa4rTvcVbb0x2k3vah0Vs-uaR7kqSf00u8koz5FzStVCkFZa4mVeDnVupUtBZSI-ECHjtg6Azm3Yiz_B1lm86Y93pi3GFI4j1wc2dnt5eADNZ936kWw8EFM3O7E/file# [following]\n",
            "--2021-02-16 11:15:43--  https://uc786ebbe5ff094c784ec6a1b7c9.dl.dropboxusercontent.com/cd/0/inline/BJB_zSUYpa4rTvcVbb0x2k3vah0Vs-uaR7kqSf00u8koz5FzStVCkFZa4mVeDnVupUtBZSI-ECHjtg6Azm3Yiz_B1lm86Y93pi3GFI4j1wc2dnt5eADNZ936kWw8EFM3O7E/file\n",
            "Resolving uc786ebbe5ff094c784ec6a1b7c9.dl.dropboxusercontent.com (uc786ebbe5ff094c784ec6a1b7c9.dl.dropboxusercontent.com)... 162.125.4.15, 2620:100:6019:15::a27d:40f\n",
            "Connecting to uc786ebbe5ff094c784ec6a1b7c9.dl.dropboxusercontent.com (uc786ebbe5ff094c784ec6a1b7c9.dl.dropboxusercontent.com)|162.125.4.15|:443... connected.\n",
            "HTTP request sent, awaiting response... 302 Found\n",
            "Location: /cd/0/inline2/BJB-UXnLWczI2jowO32r-uPpmD9SuNw8QJTTSQ9vHQIvZm_AK9C_-o5ZBQtvLimgBeN6LDu7fdNJpMvisYO3GI-CdIj2V-VaNmCs1mWK2zvpxUZGHx5ey1ctOJ1bSu4ewh-qmjeHLOEk8KreApupVH-rT71HAiZxq3kvubOYiPHfqscEu_u1xP_N7jSMnwFmfM94F74yYTCbzfJEeD_ZAKe6dDL8fYZ4b2Vjkzg-u2iYluORqjWungBID6yU6rWnLtL6L7YCGBGInNEABaJ51xjob-Bck2zrDAlsApGmeEsuPlr9m8WGozy0BdsxXTLSDfi4F0NhNU1LKvK6JIPaMYsItiJP1VBwezFtIvy_4TRtKg/file [following]\n",
            "--2021-02-16 11:15:44--  https://uc786ebbe5ff094c784ec6a1b7c9.dl.dropboxusercontent.com/cd/0/inline2/BJB-UXnLWczI2jowO32r-uPpmD9SuNw8QJTTSQ9vHQIvZm_AK9C_-o5ZBQtvLimgBeN6LDu7fdNJpMvisYO3GI-CdIj2V-VaNmCs1mWK2zvpxUZGHx5ey1ctOJ1bSu4ewh-qmjeHLOEk8KreApupVH-rT71HAiZxq3kvubOYiPHfqscEu_u1xP_N7jSMnwFmfM94F74yYTCbzfJEeD_ZAKe6dDL8fYZ4b2Vjkzg-u2iYluORqjWungBID6yU6rWnLtL6L7YCGBGInNEABaJ51xjob-Bck2zrDAlsApGmeEsuPlr9m8WGozy0BdsxXTLSDfi4F0NhNU1LKvK6JIPaMYsItiJP1VBwezFtIvy_4TRtKg/file\n",
            "Reusing existing connection to uc786ebbe5ff094c784ec6a1b7c9.dl.dropboxusercontent.com:443.\n",
            "HTTP request sent, awaiting response... 200 OK\n",
            "Length: 630678864 (601M) [application/zip]\n",
            "Saving to: ‘faces.zip.1’\n",
            "\n",
            "faces.zip.1         100%[===================>] 601.46M   100MB/s    in 5.8s    \n",
            "\n",
            "2021-02-16 11:15:50 (105 MB/s) - ‘faces.zip.1’ saved [630678864/630678864]\n",
            "\n"
          ],
          "name": "stdout"
        }
      ]
    },
    {
      "cell_type": "code",
      "metadata": {
        "id": "hD9MvVtL6nx3"
      },
      "source": [
        "%cd /content/Northern-Data-Star-Wars-GAN/DatasetGenerator/faces\n",
        "!python /content/Northern-Data-Star-Wars-GAN/stylegan2/dataset_tool.py create_from_images_raw /content/Northern-Data-Star-Wars-GAN/stylegan2/dataset/starWars ."
      ],
      "execution_count": null,
      "outputs": []
    },
    {
      "cell_type": "code",
      "metadata": {
        "id": "FYWCUqGhTDMG"
      },
      "source": [
        "%cd /content/Northern-Data-Star-Wars-GAN/stylegan2\n",
        "!python run_training.py --num-gpus=8 --data-dir=./dataset --config=config-e --dataset=starWars --min-h=3 --min-w=3 --res-log2=7 --mirror-augment=true --metric=none --total-kimg=20000 --minibatch-gpu-base=1 --result-dir=\"/content/Northern-Data-Star-Wars-GAN/results\""
      ],
      "execution_count": null,
      "outputs": []
    },
    {
      "cell_type": "code",
      "execution_count": null,
      "metadata": {},
      "outputs": [],
      "source": [
        "%cd /content/Northern-Data-Star-Wars-GAN/stylegan2\n",
        "!wget https://hanlab.mit.edu/projects/data-efficient-gans/models/stylegan2-ffhq.pkl\n",
        "from IPython.display import Image \n",
        "import blend_models\n",
        "resolutions = (8, 16, 32, 64, 128)\n",
        "for res in resolutions:\n",
        "  filename = f\"blended-{res}.jpg\"\n",
        "  blend_models.main(\"starWars.pkl\", \"stylegan2-ffhq.pkl\", res, output_grid=filename)\n",
        "  img = Image(filename=filename)\n",
        "  print(f\"blending at {res}x{res}\")\n",
        "  display(img)"
      ]
    },
    {
      "cell_type": "code",
      "execution_count": null,
      "metadata": {},
      "outputs": [],
      "source": []
    }
  ]
}